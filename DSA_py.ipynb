{
  "nbformat": 4,
  "nbformat_minor": 0,
  "metadata": {
    "colab": {
      "provenance": [],
      "authorship_tag": "ABX9TyOAO7x9fUys3dVs63BEedpY",
      "include_colab_link": true
    },
    "kernelspec": {
      "name": "python3",
      "display_name": "Python 3"
    },
    "language_info": {
      "name": "python"
    }
  },
  "cells": [
    {
      "cell_type": "markdown",
      "metadata": {
        "id": "view-in-github",
        "colab_type": "text"
      },
      "source": [
        "<a href=\"https://colab.research.google.com/github/Adityakasara/Signin-login-/blob/main/DSA_py.ipynb\" target=\"_parent\"><img src=\"https://colab.research.google.com/assets/colab-badge.svg\" alt=\"Open In Colab\"/></a>"
      ]
    },
    {
      "cell_type": "code",
      "execution_count": null,
      "metadata": {
        "colab": {
          "base_uri": "https://localhost:8080/"
        },
        "id": "4gIkqrCbjCkt",
        "outputId": "bf97fae2-5f1a-4a09-ce59-3e23fb75ac34"
      },
      "outputs": [
        {
          "output_type": "stream",
          "name": "stdout",
          "text": [
            "7\n",
            "3\n",
            "8\n",
            "5\n"
          ]
        }
      ],
      "source": [
        "n = 5837\n",
        "num =n\n",
        "while num>0:\n",
        "  last_digit=num%10\n",
        "  print(last_digit)\n",
        "  num=num//10"
      ]
    },
    {
      "cell_type": "code",
      "source": [
        "def factorial(num):\n",
        "  if num==0 or num==1:\n",
        "    return 1\n",
        "  return num * factorial(num-1)\n",
        "factorial(4)"
      ],
      "metadata": {
        "colab": {
          "base_uri": "https://localhost:8080/"
        },
        "id": "qWcW4pwZpIPd",
        "outputId": "daac7e34-940f-4b52-a708-9177840f19ee"
      },
      "execution_count": null,
      "outputs": [
        {
          "output_type": "execute_result",
          "data": {
            "text/plain": [
              "24"
            ]
          },
          "metadata": {},
          "execution_count": 4
        }
      ]
    },
    {
      "cell_type": "code",
      "source": [
        "n = 5837\n",
        "num =n\n",
        "count=0\n",
        "while n>0:\n",
        "  count+=1\n",
        "  n=n//10\n",
        "print(count)"
      ],
      "metadata": {
        "colab": {
          "base_uri": "https://localhost:8080/"
        },
        "id": "ULYIeU4ckZuz",
        "outputId": "e05ff93e-b180-4eff-a231-e7fa4eaff2bf"
      },
      "execution_count": null,
      "outputs": [
        {
          "output_type": "stream",
          "name": "stdout",
          "text": [
            "4\n"
          ]
        }
      ]
    },
    {
      "cell_type": "code",
      "source": [
        "def is_number_palindrome(num):\n",
        "    user_input = num\n",
        "    result_num = 0\n",
        "\n",
        "    while num > 0:\n",
        "        last_digit = num % 10\n",
        "        num = num // 10\n",
        "\n",
        "        result_num = (result_num * 10) + last_digit\n",
        "\n",
        "    if user_input == result_num:\n",
        "        return True\n",
        "    else:\n",
        "        return False\n",
        "\n",
        "\n",
        "print(is_number_palindrome(1221))\n",
        "\n"
      ],
      "metadata": {
        "colab": {
          "base_uri": "https://localhost:8080/"
        },
        "id": "E836Ar6Zkhx2",
        "outputId": "acc8fde4-93ca-4800-8951-92d686464c9f"
      },
      "execution_count": null,
      "outputs": [
        {
          "output_type": "stream",
          "name": "stdout",
          "text": [
            "True\n"
          ]
        }
      ]
    },
    {
      "cell_type": "code",
      "source": [
        "def is_armstrong(num):\n",
        "    user_num = num\n",
        "    num_count = len(str(num))\n",
        "    result = 0\n",
        "\n",
        "    while num > 0:\n",
        "        last_digit = num % 10\n",
        "        num = num // 10\n",
        "        result = result + last_digit ** num_count\n",
        "\n",
        "    if result == user_num:\n",
        "        return True\n",
        "    else:\n",
        "        return False\n",
        "\n",
        "\n",
        "print(is_armstrong(55))\n",
        "\n"
      ],
      "metadata": {
        "colab": {
          "base_uri": "https://localhost:8080/"
        },
        "id": "9uaXUhNaMDiC",
        "outputId": "e549900c-fa9b-46c6-b434-508d104aea0e"
      },
      "execution_count": null,
      "outputs": [
        {
          "output_type": "stream",
          "name": "stdout",
          "text": [
            "False\n"
          ]
        }
      ]
    },
    {
      "cell_type": "code",
      "source": [
        "def allfactors_ofnum(num):\n",
        "  result=[]\n",
        "  for i in range(1,num//2):\n",
        "    if num%i==0:\n",
        "      result.append(i)\n",
        "  result.append(num)\n",
        "  print(result)\n",
        "\n",
        "allfactors_ofnum(20)"
      ],
      "metadata": {
        "colab": {
          "base_uri": "https://localhost:8080/"
        },
        "id": "neYtiat8MEKU",
        "outputId": "be43e23d-1ead-43db-9fd6-63160e1d1415"
      },
      "execution_count": null,
      "outputs": [
        {
          "output_type": "stream",
          "name": "stdout",
          "text": [
            "[1, 2, 4, 5, 20]\n"
          ]
        }
      ]
    },
    {
      "cell_type": "code",
      "source": [
        "arr = [5,5,7,8,9,7,5,6,7,8,9,5,7,8]\n",
        "dici={}\n",
        "for i in range(0,len(arr)):\n",
        "  dici[arr[i]]=dici.get(arr[i],0)+1\n",
        "print(dici)\n"
      ],
      "metadata": {
        "colab": {
          "base_uri": "https://localhost:8080/"
        },
        "id": "F30k1AbIQHuZ",
        "outputId": "c4f40804-364c-412d-e2c6-b74aee990546"
      },
      "execution_count": null,
      "outputs": [
        {
          "output_type": "stream",
          "name": "stdout",
          "text": [
            "{5: 4, 7: 4, 8: 3, 9: 2, 6: 1}\n"
          ]
        }
      ]
    },
    {
      "cell_type": "code",
      "source": [
        "n=[5,3,2,2,1,5,5,7,5,10]\n",
        "m=[10,111,1,9,5,67,2]\n",
        "hash_map=dict()\n",
        "for i in range(0,len(n)):\n",
        "    hash_map[n[i]]=hash_map.get(n[i],0)+1\n",
        "for x in m:\n",
        "        print(\"The number\",x,\"appears\",hash_map.get(x,0),\"times\")\n",
        "\n"
      ],
      "metadata": {
        "colab": {
          "base_uri": "https://localhost:8080/"
        },
        "id": "e4xxaaEngu1k",
        "outputId": "7ac07c62-841b-4897-c079-087bc4bd3b86"
      },
      "execution_count": null,
      "outputs": [
        {
          "output_type": "stream",
          "name": "stdout",
          "text": [
            "The number 10 appears 1 times\n",
            "The number 111 appears 0 times\n",
            "The number 1 appears 1 times\n",
            "The number 9 appears 0 times\n",
            "The number 5 appears 4 times\n",
            "The number 67 appears 0 times\n",
            "The number 2 appears 2 times\n"
          ]
        }
      ]
    },
    {
      "cell_type": "code",
      "source": [
        "s=\"aabdzydxabhh\"\n",
        "y=[\"d\",\"x\",\"k\",\"l\"]\n",
        "dici={}\n",
        "for char_s in s:\n",
        "  ascii_val=ord(char_s)\n",
        "  char_index=ascii_val-97\n",
        "  dici[char_index]=dici.get(char_index,0)+1\n",
        "for char_y in y:\n",
        "  ascii_val=ord(char_y)\n",
        "  char_index=ascii_val-97\n",
        "  if char_index in dici:\n",
        "    print(\"character\",char_y,\"found in s and\",\"count is\",dici[char_index])\n",
        "  else:\n",
        "   print(\"character\",char_y,\"not found\")"
      ],
      "metadata": {
        "id": "-P5DNvTVhdGx",
        "colab": {
          "base_uri": "https://localhost:8080/"
        },
        "outputId": "79bdc24d-3417-4ca4-da7c-97550523cf02"
      },
      "execution_count": null,
      "outputs": [
        {
          "output_type": "stream",
          "name": "stdout",
          "text": [
            "character d found in s and count is 2\n",
            "character x found in s and count is 1\n",
            "character k not found\n",
            "character l not found\n"
          ]
        }
      ]
    },
    {
      "cell_type": "code",
      "source": [
        "def fun(count):\n",
        "    if count == 4:\n",
        "        return\n",
        "    print(\"ROHIT\")\n",
        "    fun(count + 1)\n",
        "fun(0)"
      ],
      "metadata": {
        "colab": {
          "base_uri": "https://localhost:8080/"
        },
        "id": "NcVkZydzAKoS",
        "outputId": "5f1b77c7-29d3-40cb-fb2a-aec9cbbc8cb1"
      },
      "execution_count": null,
      "outputs": [
        {
          "output_type": "stream",
          "name": "stdout",
          "text": [
            "ROHIT\n",
            "ROHIT\n",
            "ROHIT\n",
            "ROHIT\n"
          ]
        }
      ]
    },
    {
      "cell_type": "code",
      "source": [
        "def fun(count):\n",
        "  if count==4:\n",
        "    return\n",
        "  count-=1\n",
        "  print(\"ROHIT\")\n",
        "fun(4)"
      ],
      "metadata": {
        "id": "wsf3lomwBaJT"
      },
      "execution_count": null,
      "outputs": []
    },
    {
      "cell_type": "code",
      "source": [
        "def func(arr,left,right):\n",
        "    while (left<right):\n",
        "        arr[left],arr[right]=arr[right],arr[left]\n",
        "        left+=1\n",
        "        right-=1\n",
        "\n",
        "    return arr\n",
        "print(func([1,2,3,4,5],0,4))"
      ],
      "metadata": {
        "colab": {
          "base_uri": "https://localhost:8080/"
        },
        "id": "Itd4BGhypJPw",
        "outputId": "af6113d1-3cbb-4bc8-8b94-b8f1fba168b2"
      },
      "execution_count": null,
      "outputs": [
        {
          "output_type": "stream",
          "name": "stdout",
          "text": [
            "[5, 4, 3, 2, 1]\n"
          ]
        }
      ]
    },
    {
      "cell_type": "code",
      "source": [
        "S=\"NIXTI\"\n",
        "n=len(S)\n",
        "l=0\n",
        "r=n-1\n",
        "while l>r:\n",
        " if S[l]!=S[r]:\n",
        "   print(False)\n",
        " l+=1\n",
        " r-=1\n",
        "print(True)"
      ],
      "metadata": {
        "colab": {
          "base_uri": "https://localhost:8080/"
        },
        "id": "ItYnllfbrjM6",
        "outputId": "f1dad08f-ece2-459c-d409-f57798bd63c1"
      },
      "execution_count": null,
      "outputs": [
        {
          "output_type": "stream",
          "name": "stdout",
          "text": [
            "True\n"
          ]
        }
      ]
    },
    {
      "cell_type": "code",
      "source": [
        "def fibonacci_recursive(n):\n",
        "\n",
        "    if n <= 0:\n",
        "        return 0\n",
        "    elif n == 1:\n",
        "        return 1\n",
        "    else:\n",
        "        return fibonacci_recursive(n - 1) + fibonacci_recursive(n - 2)\n",
        "\n",
        "print(fibonacci_recursive(6))"
      ],
      "metadata": {
        "colab": {
          "base_uri": "https://localhost:8080/"
        },
        "id": "M3UkhF5V2TLP",
        "outputId": "50691b61-837b-4ba2-e59f-9ff7e5d6895b"
      },
      "execution_count": null,
      "outputs": [
        {
          "output_type": "stream",
          "name": "stdout",
          "text": [
            "8\n"
          ]
        }
      ]
    },
    {
      "cell_type": "code",
      "source": [
        "def selectionsort(nums):\n",
        "  n=len(nums)\n",
        "  for i in range(0,n):\n",
        "    mini_val=i\n",
        "    for j in range(i+1,n):\n",
        "      if nums[j]<nums[mini_val]:\n",
        "        mini_val=j\n",
        "    nums[i],nums[mini_val]=nums[mini_val],nums[i]\n",
        "  return nums\n",
        "print(selectionsort([3,5,2,1,0]))"
      ],
      "metadata": {
        "colab": {
          "base_uri": "https://localhost:8080/"
        },
        "id": "7M_nmykUXfGW",
        "outputId": "5287a61c-15c3-49f4-9a8e-b3c5b90fe588"
      },
      "execution_count": null,
      "outputs": [
        {
          "output_type": "stream",
          "name": "stdout",
          "text": [
            "[0, 1, 2, 3, 5]\n"
          ]
        }
      ]
    },
    {
      "cell_type": "code",
      "source": [
        "def bubblesort(nums):\n",
        "  n =len(nums)\n",
        "  for i in range(n):\n",
        "    for j in range(0,n-1-i):\n",
        "      if nums[j]>nums[j+1]:\n",
        "        nums[j],nums[j+1]=nums[j+1],nums[j]\n",
        "  return nums\n",
        "print(bubblesort([51,3,6,1]))\n"
      ],
      "metadata": {
        "colab": {
          "base_uri": "https://localhost:8080/"
        },
        "id": "hOpGoOXmW0vi",
        "outputId": "91c3e4dc-e78e-4ff5-947e-61b4dae86a5d"
      },
      "execution_count": null,
      "outputs": [
        {
          "output_type": "stream",
          "name": "stdout",
          "text": [
            "[1, 3, 6, 51]\n"
          ]
        }
      ]
    },
    {
      "cell_type": "code",
      "source": [
        "def insertion_sort(nums):\n",
        "    n = len(nums)\n",
        "    for i in range(1, n):\n",
        "        key = nums[i]\n",
        "        j = i-1\n",
        "        while j>=0 and nums[j]<key:\n",
        "            nums[j+1] = nums[j]\n",
        "            j-=1\n",
        "        nums[j+1]= key\n",
        "    return nums\n",
        "\n",
        "print(insertion_sort([5,1,3,2,7,2]))\n"
      ],
      "metadata": {
        "colab": {
          "base_uri": "https://localhost:8080/"
        },
        "id": "tIRIqBitXJS9",
        "outputId": "23a40561-c496-4899-9d52-039b47cd4e6f"
      },
      "execution_count": null,
      "outputs": [
        {
          "output_type": "stream",
          "name": "stdout",
          "text": [
            "[7, 5, 3, 2, 2, 1]\n"
          ]
        }
      ]
    },
    {
      "cell_type": "code",
      "source": [
        "def merge_sort(arr):\n",
        "  if len(arr)<=1:\n",
        "    return arr\n",
        "  mid = len(arr)//2\n",
        "  left_arr=arr[:mid]\n",
        "  right_arr=arr[mid:]\n",
        "  left_arr=merge_sort(left_arr)\n",
        "  right_arr=merge_sort(right_arr)\n",
        "  return merge(left_arr,right_arr)\n",
        "def merge(left_arr,right_arr):\n",
        "  merged_list=[]\n",
        "  n=len(left_arr)\n",
        "  m=len(right_arr)\n",
        "  left_idx=0\n",
        "  right_idx=0\n",
        "  while left_idx<n and right_idx<m:\n",
        "    if left_arr[left_idx]<=right_arr[right_idx]:\n",
        "      merged_list.append(left_arr[left_idx])\n",
        "      left_idx+=1\n",
        "    else:\n",
        "      merged_list.append(right_arr[right_idx])\n",
        "      right_idx+=1\n",
        "  while left_idx<n:\n",
        "    merged_list.append(left_arr[left_idx])\n",
        "    left_idx+=1\n",
        "  while right_idx<m:\n",
        "    merged_list.append(right_arr[right_idx])\n",
        "    right_idx+=1\n",
        "  return merged_list\n",
        "merge_sort([55,2,17,24])\n",
        "\n"
      ],
      "metadata": {
        "id": "X2Gr3t8PkkhH",
        "colab": {
          "base_uri": "https://localhost:8080/"
        },
        "outputId": "ead911ca-1fb6-4f61-fd39-c87d4cd4622b"
      },
      "execution_count": null,
      "outputs": [
        {
          "output_type": "execute_result",
          "data": {
            "text/plain": [
              "[2, 17, 24, 55]"
            ]
          },
          "metadata": {},
          "execution_count": 14
        }
      ]
    },
    {
      "cell_type": "code",
      "source": [
        "def quick_sort(arr):\n",
        "    if len(arr) <= 1:\n",
        "        return arr\n",
        "\n",
        "    pivot = arr[0]\n",
        "\n",
        "    left = [x for x in arr[1:] if x <= pivot]\n",
        "\n",
        "    right = [x for x in arr[1:] if x > pivot]\n",
        "\n",
        "    return quick_sort(left) + [pivot] + quick_sort(right)\n",
        "\n",
        "\n",
        "arr = [5, 7, 1, 2, 3]\n",
        "sorted_arr = quick_sort(arr)\n",
        "print(sorted_arr)\n"
      ],
      "metadata": {
        "colab": {
          "base_uri": "https://localhost:8080/"
        },
        "id": "d-itIJRF7bp3",
        "outputId": "ad749189-88c9-4f2d-a3fc-6c3399c0329e"
      },
      "execution_count": null,
      "outputs": [
        {
          "output_type": "stream",
          "name": "stdout",
          "text": [
            "[1, 2, 3, 5, 7]\n"
          ]
        }
      ]
    },
    {
      "cell_type": "code",
      "source": [
        "nums =[55,4,12,34,1,14]\n",
        "largest = nums[0]\n",
        "n=len(nums)\n",
        "for i in range(0,n):\n",
        "  largest = max(largest,nums[i])\n",
        "print(largest)"
      ],
      "metadata": {
        "id": "sWVnJihTmi3-",
        "colab": {
          "base_uri": "https://localhost:8080/"
        },
        "outputId": "21709be0-5e66-4bb0-d91f-af6255bc19b9"
      },
      "execution_count": null,
      "outputs": [
        {
          "output_type": "stream",
          "name": "stdout",
          "text": [
            "55\n"
          ]
        }
      ]
    },
    {
      "cell_type": "code",
      "source": [
        "nums=[28,5,29,79]\n",
        "n=len(nums)\n",
        "for i in range(0,n-1):\n",
        "  if nums[i]<=nums[i+1]:\n",
        "   print(True)\n",
        "   break\n",
        "  else:\n",
        "    print(False)\n",
        "    break"
      ],
      "metadata": {
        "colab": {
          "base_uri": "https://localhost:8080/"
        },
        "id": "eVwGbyKu6Cdb",
        "outputId": "6840cba3-76fd-4f51-813d-8f2226cb27e6"
      },
      "execution_count": null,
      "outputs": [
        {
          "output_type": "stream",
          "name": "stdout",
          "text": [
            "False\n"
          ]
        }
      ]
    },
    {
      "cell_type": "code",
      "source": [
        "def right_rotate(arr):\n",
        "  n =len(arr)\n",
        "  if not arr:\n",
        "    return arr\n",
        "  last = arr[-1]\n",
        "  for i in range(n-1,0,-1):\n",
        "   arr[i]=arr[i-1]\n",
        "  arr[0]=last\n",
        "\n",
        "  return arr\n",
        "right_rotate([3,4,1,5,1])"
      ],
      "metadata": {
        "colab": {
          "base_uri": "https://localhost:8080/"
        },
        "id": "fnR8v8QQ7Xds",
        "outputId": "2ed7baa2-8121-4c91-e5b6-a433cbe9c2a5"
      },
      "execution_count": null,
      "outputs": [
        {
          "output_type": "execute_result",
          "data": {
            "text/plain": [
              "[1, 3, 4, 1, 5]"
            ]
          },
          "metadata": {},
          "execution_count": 24
        }
      ]
    },
    {
      "cell_type": "code",
      "source": [
        "nums=[1,1,2,1,3,2,4,2,3]\n",
        "unique_nums=sorted(set(nums))\n",
        "print(unique_nums)"
      ],
      "metadata": {
        "colab": {
          "base_uri": "https://localhost:8080/"
        },
        "id": "hyurvKF--cL_",
        "outputId": "465e130f-c636-4b9f-81cf-a65dcc0fe51d"
      },
      "execution_count": null,
      "outputs": [
        {
          "output_type": "stream",
          "name": "stdout",
          "text": [
            "[1, 2, 3, 4]\n"
          ]
        }
      ]
    },
    {
      "cell_type": "code",
      "source": [
        "def k_right_rotate(arr,k):\n",
        "  n =len(arr)\n",
        "\n",
        "  for _ in range(k):\n",
        "    last = arr.pop()\n",
        "    arr.insert(0,last)\n",
        "  return arr\n",
        "print(k_right_rotate(arr=[4,1,12,3],k=100))\n"
      ],
      "metadata": {
        "colab": {
          "base_uri": "https://localhost:8080/"
        },
        "id": "tqJhVx5q-qQ7",
        "outputId": "1de55904-9614-4555-9a25-5a4feda3b2c6"
      },
      "execution_count": null,
      "outputs": [
        {
          "output_type": "stream",
          "name": "stdout",
          "text": [
            "[4, 1, 12, 3]\n"
          ]
        }
      ]
    },
    {
      "cell_type": "code",
      "source": [
        "def move_zeros(nums):\n",
        "    result = [x for x in nums if x != 0]  # Keep all non-zero elements\n",
        "    zero_count = nums.count(0)            # Count how many zeros\n",
        "    result.extend([0] * zero_count)       # Add that many zeros at the end\n",
        "    return result\n",
        "print(move_zeros(nums =[1,0,0,1,0,2,0]))"
      ],
      "metadata": {
        "colab": {
          "base_uri": "https://localhost:8080/"
        },
        "id": "LsrOlyYcBHI1",
        "outputId": "5150554a-ea0b-4781-c002-5dc8fdb2a29b"
      },
      "execution_count": null,
      "outputs": [
        {
          "output_type": "stream",
          "name": "stdout",
          "text": [
            "[1, 1, 2, 0, 0, 0, 0]\n"
          ]
        }
      ]
    },
    {
      "cell_type": "code",
      "source": [
        "def move_zeros(nums):\n",
        "    insert_pos = 0\n",
        "\n",
        "    for num in nums:\n",
        "        if num != 0:\n",
        "            nums[insert_pos] = num\n",
        "            insert_pos += 1\n",
        "\n",
        "    while insert_pos < len(nums):\n",
        "        nums[insert_pos] = 0\n",
        "        insert_pos += 1\n",
        "\n",
        "    return nums\n",
        "print(move_zeros(nums=[1,1,2,1,0,1]))"
      ],
      "metadata": {
        "colab": {
          "base_uri": "https://localhost:8080/"
        },
        "id": "wfKWTLzVGdSV",
        "outputId": "4fb6fa52-49d0-4291-fd12-80b4ca0f8d7e"
      },
      "execution_count": null,
      "outputs": [
        {
          "output_type": "stream",
          "name": "stdout",
          "text": [
            "[1, 1, 2, 1, 1, 0]\n"
          ]
        }
      ]
    },
    {
      "cell_type": "code",
      "source": [
        "def linear_search(arr, x):\n",
        "    for i in range(len(arr)):\n",
        "        if arr[i] == x:\n",
        "            return i  # Return the index if found\n",
        "    return -1  # Return -1 if not found\n",
        "print(linear_search([1,2,1,4,6],1))"
      ],
      "metadata": {
        "colab": {
          "base_uri": "https://localhost:8080/"
        },
        "id": "gppNiKx6HL9M",
        "outputId": "f50cbbb7-0648-46cd-983c-95428473afaa"
      },
      "execution_count": null,
      "outputs": [
        {
          "output_type": "stream",
          "name": "stdout",
          "text": [
            "0\n"
          ]
        }
      ]
    },
    {
      "cell_type": "code",
      "source": [
        "def merge_sorted_arrays(arr1,arr2):\n",
        "  merged= arr1+arr2\n",
        "  unique=set(merged)\n",
        "  result=sorted(unique)\n",
        "  return result\n",
        "print(merge_sorted_arrays(arr1=[1,2,2,1,3],arr2=[3,1,2,1,4,1]))\n"
      ],
      "metadata": {
        "colab": {
          "base_uri": "https://localhost:8080/"
        },
        "id": "6VhxDvZwfCe8",
        "outputId": "cdab49ac-c692-4d47-ef3c-1cfa4f7a51c1"
      },
      "execution_count": null,
      "outputs": [
        {
          "output_type": "stream",
          "name": "stdout",
          "text": [
            "[1, 2, 3, 4]\n"
          ]
        }
      ]
    },
    {
      "cell_type": "code",
      "source": [
        "def missing_nums(nums):\n",
        "       n =len(nums)\n",
        "       total = n*(n+1)//2\n",
        "       result = total - sum(nums)\n",
        "       return result\n",
        "missing_nums(nums=[1,2,0,4,5,3])"
      ],
      "metadata": {
        "colab": {
          "base_uri": "https://localhost:8080/"
        },
        "id": "LmLh6sV0fKbO",
        "outputId": "48f0c18c-e7a4-456a-c7a6-5f3ec29bb287"
      },
      "execution_count": null,
      "outputs": [
        {
          "output_type": "execute_result",
          "data": {
            "text/plain": [
              "6"
            ]
          },
          "metadata": {},
          "execution_count": 6
        }
      ]
    },
    {
      "cell_type": "code",
      "source": [
        "def consecutiveones_num(nums):\n",
        "  max_count=0\n",
        "  current_count=0\n",
        "  for num in nums:\n",
        "    if num ==1:\n",
        "      current_count+=1\n",
        "      max_count=max(current_count,max_count)\n",
        "    else:\n",
        "      current_count=0\n",
        "  return max_count\n",
        "consecutiveones_num(nums=[1,1,0,1,1,1,0,1])"
      ],
      "metadata": {
        "colab": {
          "base_uri": "https://localhost:8080/"
        },
        "id": "90QLd81qm86S",
        "outputId": "c89cc122-c312-4d12-b80a-27a64b91c474"
      },
      "execution_count": null,
      "outputs": [
        {
          "output_type": "execute_result",
          "data": {
            "text/plain": [
              "3"
            ]
          },
          "metadata": {},
          "execution_count": 8
        }
      ]
    },
    {
      "cell_type": "code",
      "source": [
        "def two_sum(arr,k):\n",
        "  n = len(arr)\n",
        "  for i in range(0,n-1):\n",
        "    for j in range(i+1,n):\n",
        "      if arr[i]+arr[j]==k:\n",
        "        return [i,j]\n",
        "print(two_sum(arr=[3,1,4],k=7))"
      ],
      "metadata": {
        "colab": {
          "base_uri": "https://localhost:8080/"
        },
        "id": "X9rtBElznyfm",
        "outputId": "cda07911-c73b-4289-f9db-b8ea0cf6b382"
      },
      "execution_count": null,
      "outputs": [
        {
          "output_type": "stream",
          "name": "stdout",
          "text": [
            "[0, 2]\n"
          ]
        }
      ]
    },
    {
      "cell_type": "code",
      "source": [
        "def max_subarray(arr):\n",
        "    n = len(arr)\n",
        "    max_sum = float('-inf')\n",
        "    start = end = 0\n",
        "\n",
        "    for i in range(n):\n",
        "        current_sum = 0\n",
        "        for j in range(i, n):\n",
        "            current_sum += arr[j]\n",
        "            if current_sum > max_sum:\n",
        "                max_sum = current_sum\n",
        "                start = i\n",
        "                end = j\n",
        "\n",
        "    return max_sum, start, end\n",
        "max_subarray(arr=[1,-1,100])"
      ],
      "metadata": {
        "colab": {
          "base_uri": "https://localhost:8080/"
        },
        "id": "j60ydF8_uRpQ",
        "outputId": "698b4dff-5f79-4c1a-b448-2dd0728c329b"
      },
      "execution_count": null,
      "outputs": [
        {
          "output_type": "execute_result",
          "data": {
            "text/plain": [
              "(100, 0, 2)"
            ]
          },
          "metadata": {},
          "execution_count": 17
        }
      ]
    },
    {
      "cell_type": "code",
      "source": [
        "def rearrangeposneg_nums(nums):\n",
        "    pos = []\n",
        "    neg = []\n",
        "\n",
        "    # Separate positive and negative numbers\n",
        "    for num in nums:\n",
        "        if num >= 0:\n",
        "            pos.append(num)\n",
        "        else:\n",
        "            neg.append(num)\n",
        "\n",
        "    result = []\n",
        "    i = j = 0\n",
        "\n",
        "    # Alternate positive and negative numbers\n",
        "    while i < len(pos) and j < len(neg):\n",
        "        result.append(pos[i])\n",
        "        result.append(neg[j])\n",
        "        i += 1\n",
        "        j += 1\n",
        "\n",
        "\n",
        "    return result\n",
        "# Example usage\n",
        "print(rearrangeposneg_nums([1, 6, -4, -3, 1, -2, 3]))\n"
      ],
      "metadata": {
        "colab": {
          "base_uri": "https://localhost:8080/"
        },
        "id": "bsVHg4p0ZTEp",
        "outputId": "d1fab665-9501-4bac-ec12-25db495db0ab"
      },
      "execution_count": null,
      "outputs": [
        {
          "output_type": "stream",
          "name": "stdout",
          "text": [
            "[1, -4, 6, -3, 1, -2]\n"
          ]
        }
      ]
    },
    {
      "cell_type": "code",
      "source": [
        "def longestConsecutive(nums):\n",
        "    num_set = set(nums)\n",
        "    longest = 0\n",
        "\n",
        "    for num in num_set:\n",
        "        if num - 1 not in num_set:\n",
        "            length = 1\n",
        "            current = num\n",
        "            while current + 1 in num_set:\n",
        "                current += 1\n",
        "                length += 1\n",
        "            longest = max(longest, length)\n",
        "\n",
        "    return longest\n",
        "print(longestConsecutive([1,5,6,7,8,9]))"
      ],
      "metadata": {
        "colab": {
          "base_uri": "https://localhost:8080/"
        },
        "id": "eEXHKg6rhbIT",
        "outputId": "2c1b6c02-1d1e-44be-c248-da45e131abcd"
      },
      "execution_count": null,
      "outputs": [
        {
          "output_type": "stream",
          "name": "stdout",
          "text": [
            "5\n"
          ]
        }
      ]
    },
    {
      "cell_type": "code",
      "source": [
        "nums = [[5,4,1],[4,2,1],[1,2,1]]\n",
        "rows = len(nums)\n",
        "col = len(nums[0])\n",
        "for i in range(0,rows):\n",
        "  for j in range(0,col):\n",
        "    if j>=i:\n",
        "      print(nums[i][j],end=\"\")\n",
        "    else:\n",
        "      print(\"*\",end=\"\")"
      ],
      "metadata": {
        "colab": {
          "base_uri": "https://localhost:8080/"
        },
        "id": "OfWjaOKKQ1_n",
        "outputId": "711e12ee-e544-4154-ee07-4ffc677f630e"
      },
      "execution_count": null,
      "outputs": [
        {
          "output_type": "stream",
          "name": "stdout",
          "text": [
            "541*21**1"
          ]
        }
      ]
    },
    {
      "cell_type": "code",
      "source": [
        "nums=[[5,20,3],[7,-10,9],[1,-52,6]]\n",
        "for i in range(0,len(nums)):\n",
        "    for j in range (0,len(nums[0])):\n",
        "        if i+j==2:\n",
        "            print(nums[i] [j] , end='   ')\n",
        "        else:\n",
        "            print(' *  ',end='   ')\n",
        "    print()"
      ],
      "metadata": {
        "colab": {
          "base_uri": "https://localhost:8080/"
        },
        "id": "tv5mZYc2Rz0f",
        "outputId": "7b38adaf-b3d3-4474-c1da-a4609b20e676"
      },
      "execution_count": null,
      "outputs": [
        {
          "output_type": "stream",
          "name": "stdout",
          "text": [
            " *      *     3   \n",
            " *     -10    *     \n",
            "1    *      *     \n"
          ]
        }
      ]
    },
    {
      "cell_type": "code",
      "source": [
        "def threeSum(nums):\n",
        " n = len(nums)\n",
        " result=[]\n",
        " i,j,k = 0,0,0\n",
        " for i in range(0,n-2):\n",
        "  for j in range(i+1,n-1):\n",
        "    for k in range(i+2,n):\n",
        "      if nums [i] != nums[j] and nums[i] != nums[k] and nums[j] !=nums [k] and nums[i]+nums[j]+nums[k]:\n",
        "       return result.append([nums[i],nums[j],nums[k]])\n",
        "print(threeSum(nums = [-1,0,1,2,-1,-4]))"
      ],
      "metadata": {
        "colab": {
          "base_uri": "https://localhost:8080/"
        },
        "id": "ZQAXXAxOjXhe",
        "outputId": "c2a50e74-ee04-4080-eae0-93bbafa7513a"
      },
      "execution_count": null,
      "outputs": [
        {
          "output_type": "stream",
          "name": "stdout",
          "text": [
            "None\n"
          ]
        }
      ]
    },
    {
      "cell_type": "code",
      "source": [],
      "metadata": {
        "id": "dn_sOAn1j9oq"
      },
      "execution_count": null,
      "outputs": []
    },
    {
      "cell_type": "code",
      "source": [
        "import random\n",
        "def roll_dice():\n",
        "    return random.randint(1,6)\n",
        "\n",
        "print(\"Welcome to  dice rolling game\")\n",
        "\n",
        "while True:\n",
        "    input(\"Press Enter to start\")\n",
        "    result = roll_dice()\n",
        "    print(f\"You have rolled a {result}!\")\n",
        "    #moved the 12 line forward\n",
        "    choice = input(\"Do you wish to roll the dice again? (y?/n):\").lower()\n",
        "    if choice!='y':\n",
        "     print(\"thanks for playing , goodbye\")\n",
        "     break"
      ],
      "metadata": {
        "colab": {
          "base_uri": "https://localhost:8080/"
        },
        "id": "73ojRa2upXha",
        "outputId": "8b3d8e8a-198e-4654-bd98-910c91959f70"
      },
      "execution_count": null,
      "outputs": [
        {
          "output_type": "stream",
          "name": "stdout",
          "text": [
            "Welcome to  dice rolling game\n"
          ]
        }
      ]
    }
  ]
}